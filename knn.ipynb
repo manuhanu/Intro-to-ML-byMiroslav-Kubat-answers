{
 "cells": [
  {
   "cell_type": "code",
   "execution_count": 1,
   "id": "9b142929",
   "metadata": {},
   "outputs": [],
   "source": [
    "import pandas as pd\n",
    "import numpy as np\n",
    "import random\n",
    "\n",
    "#normalizing each attribute in the training set so no one attribute dominates the classification\n",
    "def normalize(data):\n",
    "    normdata=pd.DataFrame(index=data.index.tolist(),columns = data.columns.tolist())\n",
    "    for (columname, columnData) in data.iteritems():\n",
    "        if columname!='clss':\n",
    "            normdata[columname] = [(data.loc[index,columname]-data[columname].min())/\n",
    "                                   (data[columname].max()-data[columname].min()) for index,row in data.iterrows()]\n",
    "        else:\n",
    "            normdata[columname]=data[columname]\n",
    "    \n",
    "    return normdata\n",
    "\n",
    "#euclidean distance between each example in the training set and the new example we want to classify\n",
    "def distance(tset,v):\n",
    "    tset['dist']=0\n",
    "    for index,row in tset.iterrows():\n",
    "        tset.loc[index,'dist']=np.linalg.norm(tset.iloc[index,:-2].to_numpy()-v.iloc[0].to_numpy())\n",
    "    return tset\n",
    "\n",
    "#classifies the new point by choosing the class that comes up the most times in the k smallest distances  \n",
    "def classify(tset,k,v):\n",
    "    normtset=normalize(tset)\n",
    "    normtset = distance(normtset,v)\n",
    "    nn=normtset.nsmallest(k,'dist')\n",
    "    clss = pd.DataFrame(nn['clss'].value_counts())\n",
    "    \n",
    "    return \"most probable class is \"+ str(clss.index[0])\n",
    "        "
   ]
  },
  {
   "cell_type": "code",
   "execution_count": 2,
   "id": "973117d4",
   "metadata": {},
   "outputs": [
    {
     "data": {
      "text/plain": [
       "'most probable class is pos'"
      ]
     },
     "execution_count": 2,
     "metadata": {},
     "output_type": "execute_result"
    }
   ],
   "source": [
    "#example training set from chapter 1 (or 2 i forgot)\n",
    "z=pd.read_csv(\"example1.csv\",header=0)\n",
    "z=z.rename(columns ={'class':'clss'})\n",
    "v = pd.DataFrame({'at1': [3.1], 'at2': [2], 'at3': [1.99]})\n",
    "\n",
    "classify(z,3,v)"
   ]
  },
  {
   "cell_type": "code",
   "execution_count": 28,
   "id": "0cbac25f",
   "metadata": {},
   "outputs": [
    {
     "name": "stdout",
     "output_type": "stream",
     "text": [
      "{'1NN': 'most probable class is 3', '3NN': 'most probable class is 3', '5NN': 'most probable class is 1', '7NN': 'most probable class is 1', '9NN': 'most probable class is 1', '11NN': 'most probable class is 1', '13NN': 'most probable class is 1'}\n"
     ]
    }
   ],
   "source": [
    "#training set from UCI repository https://archive.ics.uci.edu/ml/datasets/Wine\n",
    "wine_data = pd.read_csv('wines.csv')\n",
    "wine_data= wine_data.rename(columns ={'class':'clss'})\n",
    "#next two lines are me moving the class of each example to the end of the df bc its easier\n",
    "#theres obviously a way to classify/get distance without changing the df but o well i already did it this way\n",
    "\n",
    "\n",
    "temp=wine_data.pop('clss')\n",
    "wine_data['clss']=temp\n",
    "\n",
    "#normalizing our training set\n",
    "normalized_wine_data=normalize(wine_data)\n",
    "\n",
    "#creating an example we want to classify\n",
    "test_set=pd.DataFrame(index=[0],columns=normalized_wine_data.columns.tolist())\n",
    "test_set=test_set.fillna(0)\n",
    "\n",
    "#populating our example with random numbers that fall in the range of already existing data \n",
    "for (columname,columnData) in normalized_wine_data.iteritems():\n",
    "    test_set[columname]=round(random.uniform(normalized_wine_data[columname].min(),normalized_wine_data[columname].max()),5)\n",
    "test_set=test_set.drop(columns='clss')\n",
    "\n",
    "#see what happens for different values of k\n",
    "results={}\n",
    "for k in range(1,15,2):\n",
    "    results[f'{k}NN']=(classify(normalized_wine_data,k,test_set))\n",
    "\n",
    "    \n",
    "print(results)"
   ]
  },
  {
   "cell_type": "code",
   "execution_count": null,
   "id": "b2d50e17",
   "metadata": {},
   "outputs": [],
   "source": []
  }
 ],
 "metadata": {
  "kernelspec": {
   "display_name": "Python 3",
   "language": "python",
   "name": "python3"
  },
  "language_info": {
   "codemirror_mode": {
    "name": "ipython",
    "version": 3
   },
   "file_extension": ".py",
   "mimetype": "text/x-python",
   "name": "python",
   "nbconvert_exporter": "python",
   "pygments_lexer": "ipython3",
   "version": "3.8.8"
  }
 },
 "nbformat": 4,
 "nbformat_minor": 5
}
