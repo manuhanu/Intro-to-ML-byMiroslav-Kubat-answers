{
 "cells": [
  {
   "cell_type": "code",
   "execution_count": 312,
   "id": "9b142929",
   "metadata": {},
   "outputs": [],
   "source": [
    "import pandas as pd\n",
    "import numpy as np\n",
    "import random\n",
    "\n",
    "#normalizing each attribute so no one attribute dominates the classification\n",
    "def normalize(data):\n",
    "    normdata=pd.DataFrame(index=data.index.tolist(),columns = data.columns.tolist())\n",
    "    for (columname, columnData) in data.iteritems():\n",
    "        if columname!='clss':\n",
    "            normdata[columname] = [(data.loc[index,columname]-data[columname].min())/\n",
    "                                   (data[columname].max()-data[columname].min()) for index,row in data.iterrows()]\n",
    "        else:\n",
    "            normdata[columname]=data[columname]\n",
    "    \n",
    "    return normdata\n",
    "\n",
    "#euclidean distance between each example in the training set and the new example we want to classify\n",
    "def distance(tset,v):\n",
    "    tset['dist']=0\n",
    "    for index,row in tset.iterrows():\n",
    "        tset.loc[index,'dist']=np.linalg.norm(tset.iloc[index,:-2].to_numpy()-v.iloc[0].to_numpy())\n",
    "    return tset\n",
    "\n",
    "#puts the k nearest neigbors by choosing the class that comes up the most times in the k smallest distances  \n",
    "def classify(tset,k,v):\n",
    "    normtset=normalize(tset)\n",
    "    normtset = distance(normtset,v)\n",
    "    nn=normtset.nsmallest(k,'dist')\n",
    "    clss = pd.DataFrame(nn['clss'].value_counts())\n",
    "    \n",
    "    return \"most probable class is \"+ str(clss.index[0])\n",
    "        "
   ]
  },
  {
   "cell_type": "code",
   "execution_count": 319,
   "id": "973117d4",
   "metadata": {},
   "outputs": [
    {
     "data": {
      "text/plain": [
       "'most probable class is pos'"
      ]
     },
     "execution_count": 319,
     "metadata": {},
     "output_type": "execute_result"
    }
   ],
   "source": [
    "#example training set from chapter 1 (or 2 i forgot)\n",
    "z=pd.read_csv(\"example1.csv\",header=0)\n",
    "z=z.rename(columns ={'class':'clss'})\n",
    "v = pd.DataFrame({'at1': [3.1], 'at2': [2], 'at3': [1.99]})\n",
    "\n",
    "classify(z,3,v)"
   ]
  },
  {
   "cell_type": "code",
   "execution_count": 320,
   "id": "0cbac25f",
   "metadata": {},
   "outputs": [
    {
     "data": {
      "text/plain": [
       "'most probable class is 2'"
      ]
     },
     "execution_count": 320,
     "metadata": {},
     "output_type": "execute_result"
    }
   ],
   "source": [
    "#training set from uci repository\n",
    "d = pd.read_csv('wines.csv')\n",
    "d = d.rename(columns ={'class':'clss'})\n",
    "#next two lines are me moving the class of each example to the end of the df bc its easier\n",
    "#theres obviously a way to classify/get distance without changing the df but idgaf i already did it this way\n",
    "\n",
    "t1=d.pop('clss')\n",
    "d['clss']=t1\n",
    "n=normalize(d)\n",
    "\n",
    "#creating an example we want to classify\n",
    "test=pd.DataFrame(index=[0],columns=n.columns.tolist())\n",
    "test=test.fillna(0)\n",
    "\n",
    "for (columname,columnData) in n.iteritems():\n",
    "    test[columname]=round(random.uniform(n[columname].min(),n[columname].max()),5)\n",
    "\n",
    "test=test.drop(columns='clss')\n",
    "classify(d,5,test)\n"
   ]
  },
  {
   "cell_type": "code",
   "execution_count": null,
   "id": "cf41d7c8",
   "metadata": {},
   "outputs": [],
   "source": []
  },
  {
   "cell_type": "code",
   "execution_count": null,
   "id": "4139f6f3",
   "metadata": {},
   "outputs": [],
   "source": []
  }
 ],
 "metadata": {
  "kernelspec": {
   "display_name": "Python 3",
   "language": "python",
   "name": "python3"
  },
  "language_info": {
   "codemirror_mode": {
    "name": "ipython",
    "version": 3
   },
   "file_extension": ".py",
   "mimetype": "text/x-python",
   "name": "python",
   "nbconvert_exporter": "python",
   "pygments_lexer": "ipython3",
   "version": "3.8.8"
  }
 },
 "nbformat": 4,
 "nbformat_minor": 5
}
